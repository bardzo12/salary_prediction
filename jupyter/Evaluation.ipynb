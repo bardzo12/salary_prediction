{
 "cells": [
  {
   "cell_type": "code",
   "execution_count": 1,
   "metadata": {},
   "outputs": [
    {
     "name": "stderr",
     "output_type": "stream",
     "text": [
      "c:\\python27\\lib\\site-packages\\sklearn\\cross_validation.py:41: DeprecationWarning: This module was deprecated in version 0.18 in favor of the model_selection module into which all the refactored classes and functions are moved. Also note that the interface of the new CV iterators are different from that of this module. This module will be removed in 0.20.\n",
      "  \"This module will be removed in 0.20.\", DeprecationWarning)\n",
      "c:\\python27\\lib\\site-packages\\sklearn\\grid_search.py:42: DeprecationWarning: This module was deprecated in version 0.18 in favor of the model_selection module into which all the refactored classes and functions are moved. This module will be removed in 0.20.\n",
      "  DeprecationWarning)\n"
     ]
    }
   ],
   "source": [
    "import csv\n",
    "import pandas as pd\n",
    "from sklearn.ensemble import RandomForestClassifier\n",
    "from sklearn.grid_search import RandomizedSearchCV\n",
    "from sklearn.grid_search import GridSearchCV\n",
    "from sklearn import svm\n",
    "from sklearn.cross_validation import train_test_split\n",
    "from sklearn import svm\n",
    "from sklearn.ensemble import GradientBoostingClassifier\n",
    "from sklearn.ensemble import GradientBoostingRegressor\n",
    "from sklearn.preprocessing import StandardScaler \n",
    "from sklearn.neural_network import MLPRegressor\n",
    "from sklearn.ensemble import RandomForestRegressor\n",
    "from sklearn.linear_model import LogisticRegression\n",
    "import numpy as np\n",
    "import time\n",
    "\n",
    "df_ed = pd.read_csv('D:\\OneDrive\\\\4.semester\\OZNAL\\Train.csv')"
   ]
  },
  {
   "cell_type": "code",
   "execution_count": 2,
   "metadata": {},
   "outputs": [],
   "source": [
    "df_ed = pd.get_dummies(df_ed)\n",
    "cols = list(df_ed.columns.values) #Make a list of all of the columns in the df\n",
    "\n",
    "df_ed = df_ed[df_ed['SalaryNormalized'] < 100000] #remove long tail\n",
    "cols.pop(cols.index('SalaryNormalized')) #Remove b from list\n",
    "df_ed = df_ed[cols+['SalaryNormalized']] #Create new dataframe with columns in the order you want\n",
    "\n",
    "df_x=df_ed.iloc[:,0:57]\n",
    "df_y=df_ed.iloc[:,57]"
   ]
  },
  {
   "cell_type": "code",
   "execution_count": 3,
   "metadata": {},
   "outputs": [
    {
     "data": {
      "text/plain": [
       "MLPRegressor(activation='relu', alpha=0.0001, batch_size='auto', beta_1=0.9,\n",
       "       beta_2=0.999, early_stopping=False, epsilon=1e-08,\n",
       "       hidden_layer_sizes=(20, 60, 10, 60), learning_rate='constant',\n",
       "       learning_rate_init=0.001, max_iter=200, momentum=0.9,\n",
       "       nesterovs_momentum=True, power_t=0.5, random_state=None,\n",
       "       shuffle=True, solver='adam', tol=0.0001, validation_fraction=0.1,\n",
       "       verbose=False, warm_start=False)"
      ]
     },
     "execution_count": 3,
     "metadata": {},
     "output_type": "execute_result"
    }
   ],
   "source": [
    "#CREATE TEST AND TRAING DATA###################\n",
    "x_train,x_test,y_train,y_test = train_test_split(df_x,df_y,test_size=0.2,random_state=4)\n",
    "x_train,x_test,y_train,y_test = train_test_split(x_test,y_test,test_size=0.2,random_state=4)\n",
    "\n",
    "##Logistic regression###########\n",
    "# rf =LogisticRegression()\n",
    "# rf.fit(x_train,y_train)\n",
    "################################\n",
    "\n",
    "\n",
    "#TUNING RANDOM FOREST#########################\n",
    "# params = {\"n_estimators\": np.arange(10, 80, 5),\n",
    "#           \"max_depth\": np.arange(4, 12, 1),\n",
    "#           \"min_samples_leaf\": np.arange(1, 10, 1),\n",
    "#           \"min_samples_split\": np.arange(2, 6, 1),\n",
    "#          \"max_features\": [\"auto\",\"sqrt\",\"log2\"]}\n",
    "\n",
    "# model = RandomForestRegressor()\n",
    "# grid = RandomizedSearchCV(model, params,verbose=10,n_jobs=3,n_iter=20)\n",
    "# start = time.time()\n",
    "# grid.fit(x_train,y_train)\n",
    " \n",
    "# print(\"[INFO] randomized search took {:.2f} seconds\".format(\n",
    "# \ttime.time() - start))\n",
    "# acc = grid.score(x_test,y_test)\n",
    "# print(\"[INFO] grid search accuracy: {:.2f}%\".format(acc * 100))\n",
    "# print(\"[INFO] randomized search best parameters: {}\".format(\n",
    "# \tgrid.best_params_))\n",
    "\n",
    "#TUNING#########################\n",
    "\n",
    "##RANDOM FOREST#########################\n",
    "rf1=RandomForestRegressor(n_estimators=65,max_depth=11, max_features='auto', min_samples_leaf=3,min_samples_split=5)\n",
    "rf1.fit(x_train,y_train)\n",
    "# print(rf.feature_importances_)\n",
    "##RANDOM FOREST#########################\n",
    "\n",
    "\n",
    "#TUNING GB BOOST#########################\n",
    "# params = {\"n_estimators\": np.arange(60, 80, 5),\n",
    "#           \"max_depth\": np.arange(6, 8, 1),\n",
    "#           \"min_samples_leaf\": np.arange(5, 10, 1),\n",
    "#           \"min_samples_split\": np.arange(5, 7, 1),\n",
    "#           \"loss\": [\"huber\"],\n",
    "#           \"alpha\":  [0.5,0.6,0.7,0.8,0.9,1,1.1,1.2,1.3,1.4,1.5,1.6,1.7]}\n",
    "\n",
    "# model = GradientBoostingRegressor()\n",
    "# grid = RandomizedSearchCV(model, params,verbose=10,n_jobs=3,n_iter=20)\n",
    "# start = time.time()\n",
    "# grid.fit(x_train,y_train)\n",
    " \n",
    "# print(\"[INFO] randomized search took {:.2f} seconds\".format(\n",
    "# \ttime.time() - start))\n",
    "# acc = grid.score(x_test,y_test)\n",
    "# print(\"[INFO] grid search accuracy: {:.2f}%\".format(acc * 100))\n",
    "# print(\"[INFO] randomized search best parameters: {}\".format(\n",
    "# \tgrid.best_params_))\n",
    "\n",
    "#TUNING#########################\n",
    "\n",
    "\n",
    "##GD BOOST#########################\n",
    "rf2=GradientBoostingRegressor(n_estimators=65,loss ='huber', max_depth=8, min_samples_split=6, min_samples_leaf=7, alpha=0.55)\n",
    "rf2.fit(x_train,y_train)\n",
    "##GD BOOST#########################\n",
    "\n",
    "\n",
    "#DATA NORMALIZATION FOR MLP AND SVM#########################\n",
    "# print \"Starting Transformation\"\n",
    "# scaler = StandardScaler()  \n",
    "# # Don't cheat - fit only on training data\n",
    "# scaler.fit(x_train)  \n",
    "# x_train = scaler.transform(x_train)  \n",
    "# print \"Train data transformed\"\n",
    "# # apply same transformation to test data\n",
    "# x_test = scaler.transform(x_test)\n",
    "# print \"Test data transformed\"\n",
    "###################################################\n",
    "\n",
    "#TUNING MPL Neural Network#########################\n",
    "# params = {\"activation\": [\"identity\", \"logistic\", \"tanh\", \"relu\"],\n",
    "#           \"solver\" : [\"lbfgs\", \"sgd\", \"adam\"],\n",
    "#           \"max_iter\": np.arange(200, 300, 20),\n",
    "#           \"hidden_layer_sizes\": [(50,100,100,50)]}\n",
    "\n",
    "# model =  MLPRegressor()\n",
    "# grid = RandomizedSearchCV(model, params,verbose=10,n_jobs=3,n_iter=20)\n",
    "# start = time.time()\n",
    "# grid.fit(x_train,y_train)\n",
    " \n",
    "# print(\"[INFO] randomized search took {:.2f} seconds\".format(\n",
    "# \ttime.time() - start))\n",
    "# acc = grid.score(x_test,y_test)\n",
    "# print(\"[INFO] grid search accuracy: {:.2f}%\".format(acc * 100))\n",
    "# print(\"[INFO] randomized search best parameters: {}\".format(\n",
    "# \tgrid.best_params_))\n",
    "\n",
    "#TUNING#########################\n",
    "\n",
    "##MPL Neural Network#########################\n",
    "rf3 = MLPRegressor(hidden_layer_sizes=(20, 60, 10, 60))   # neuronova siet  dava zle vysledky lebo features nei su skalovanie 0...1\n",
    "rf3.fit(x_train,y_train)\n",
    "##MPL Neural Network#########################\n",
    "\n",
    "##SVM#########################\n",
    "# rf=svm.SVR()\n",
    "# rf.fit(x_train,y_train) # dava zle vysledky lebo features nei su skalovanie 0...1\n",
    "##SVM#########################\n"
   ]
  },
  {
   "cell_type": "code",
   "execution_count": 31,
   "metadata": {},
   "outputs": [
    {
     "name": "stdout",
     "output_type": "stream",
     "text": [
      "9754\n",
      "0\n",
      "1\n",
      "2\n",
      "3\n",
      "4\n",
      "5\n",
      "6\n",
      "7\n",
      "8\n",
      "9\n",
      "6201.46712221\n"
     ]
    }
   ],
   "source": [
    "#EVAULATION FOR SING METHOD\n",
    "start = 0\n",
    "diff = 0\n",
    "base = 1000\n",
    "distribution = []\n",
    "\n",
    "t = y_test.values\n",
    "print len(x_test)\n",
    "\n",
    "for i in range (0,(len(x_test)/base) + 1):\n",
    "    print i\n",
    "    if start+base < len(x_test):\n",
    "        prediction = rf.predict(x_test[start:start+base])\n",
    "    else:\n",
    "        prediction = rf.predict(x_test[start:len(x_test)])\n",
    "        \n",
    "    for i in range(len(prediction)):\n",
    "        diff = diff + abs(prediction[i] - t[i+start])\n",
    "        if t[i+start] - prediction[i] > 0:\n",
    "            if ((t[i+start] - prediction[i])/(t[i+start])) * 100 * (-1) > -200:\n",
    "                distribution.append(((t[i+start] - prediction[i])/(t[i+start])) * 100 * (-1))\n",
    "        else:\n",
    "            if ((prediction[i] - t[i+start])/(t[i+start])) * 100 < 200:\n",
    "                distribution.append(((prediction[i] - t[i+start])/(t[i+start])) * 100)\n",
    "    start = start + base\n",
    "        \n",
    "print diff/float((len(x_test)))"
   ]
  },
  {
   "cell_type": "code",
   "execution_count": 32,
   "metadata": {},
   "outputs": [
    {
     "data": {
      "image/png": "[encoded data removed]",
      "text/plain": [
       "<matplotlib.figure.Figure at 0x1926dc10>"
      ]
     },
     "metadata": {},
     "output_type": "display_data"
    }
   ],
   "source": [
    "import matplotlib.pyplot as plt\n",
    "plt.hist(distribution,bins=100)\n",
    "plt.suptitle('MLP', fontsize=16)\n",
    "plt.xlabel('Odchylka [%]', fontsize=13)\n",
    "plt.ylabel('Pocet predikcii', fontsize=13)\n",
    "plt.grid(True)\n",
    "plt.ylim(0, 1000)\n",
    "plt.show()"
   ]
  },
  {
   "cell_type": "code",
   "execution_count": 9,
   "metadata": {},
   "outputs": [
    {
     "name": "stdout",
     "output_type": "stream",
     "text": [
      "9754\n",
      "0\n",
      "1\n",
      "2\n",
      "3\n",
      "4\n",
      "5\n",
      "6\n",
      "7\n",
      "8\n",
      "9\n",
      "5565.75505972\n"
     ]
    }
   ],
   "source": [
    "#EVAULATION FOR MULTIPLE ENSABLEMENTED METHODS\n",
    "\n",
    "start = 0\n",
    "diff = 0\n",
    "base = 1000\n",
    "distribution = []\n",
    "\n",
    "#rf1 5701 RF \n",
    "#rf2 5460  GD\n",
    "#rf3 5975  MLP\n",
    "t = y_test.values\n",
    "print len(x_test)\n",
    "\n",
    "for i in range (0,(len(x_test)/base) + 1):\n",
    "    print i\n",
    "    if start+base < len(x_test):\n",
    "        prediction1 = rf1.predict(x_test[start:start+base])\n",
    "        prediction2 = rf2.predict(x_test[start:start+base])\n",
    "        prediction3 = rf3.predict(x_test[start:start+base])\n",
    "    else:\n",
    "        prediction1 = rf1.predict(x_test[start:len(x_test)])\n",
    "        prediction2 = rf2.predict(x_test[start:len(x_test)])\n",
    "        prediction3 = rf3.predict(x_test[start:len(x_test)]) \n",
    "    \n",
    "    for i in range(len(prediction1)):\n",
    "        final_prediction = (prediction1[i] /5701) + (prediction2[i] /5460) + (prediction3[i]/5975)\n",
    "        final_prediction = final_prediction / (1/float(5701) + 1/float(5460) + 1/float(5975))\n",
    "        \n",
    "        diff = diff + abs(final_prediction - t[i+start])\n",
    "        if t[i+start] - final_prediction > 0:\n",
    "            if ((t[i+start] - final_prediction)/(t[i+start])) * 100 * (-1) > -200:\n",
    "                distribution.append(((t[i+start] - final_prediction)/(t[i+start])) * 100 * (-1))\n",
    "        else:\n",
    "            if ((final_prediction - t[i+start])/(t[i+start])) * 100 < 200:\n",
    "                distribution.append(((final_prediction - t[i+start])/(t[i+start])) * 100)\n",
    "    start = start + base\n",
    "        \n",
    "print diff/float((len(x_test)))"
   ]
  },
  {
   "cell_type": "code",
   "execution_count": null,
   "metadata": {},
   "outputs": [],
   "source": []
  }
 ],
 "metadata": {
  "kernelspec": {
   "display_name": "Python 2",
   "language": "python",
   "name": "python2"
  },
  "language_info": {
   "codemirror_mode": {
    "name": "ipython",
    "version": 2
   },
   "file_extension": ".py",
   "mimetype": "text/x-python",
   "name": "python",
   "nbconvert_exporter": "python",
   "pygments_lexer": "ipython2",
   "version": "2.7.14"
  }
 },
 "nbformat": 4,
 "nbformat_minor": 2
}
